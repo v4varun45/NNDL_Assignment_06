{
  "nbformat": 4,
  "nbformat_minor": 0,
  "metadata": {
    "colab": {
      "provenance": []
    },
    "kernelspec": {
      "name": "python3",
      "display_name": "Python 3"
    },
    "language_info": {
      "name": "python"
    }
  },
  "cells": [
    {
      "cell_type": "code",
      "execution_count": 1,
      "metadata": {
        "colab": {
          "base_uri": "https://localhost:8080/"
        },
        "id": "rtNxmFzCgIlF",
        "outputId": "45da28e8-29fb-4fe9-db88-648621ecd661"
      },
      "outputs": [
        {
          "output_type": "stream",
          "name": "stdout",
          "text": [
            "Mounted at /content/gdrive\n"
          ]
        }
      ],
      "source": [
        "from google.colab import drive\n",
        "drive.mount('/content/gdrive')"
      ]
    },
    {
      "cell_type": "code",
      "source": [
        "path_to_csv = '/content/gdrive/My Drive/diabetes.csv'"
      ],
      "metadata": {
        "id": "jBkNCkQvgg4x"
      },
      "execution_count": 2,
      "outputs": []
    },
    {
      "cell_type": "code",
      "source": [],
      "metadata": {
        "id": "Zlg9PhoG0Qbx"
      },
      "execution_count": null,
      "outputs": []
    },
    {
      "cell_type": "markdown",
      "source": [
        "1)\n",
        "a)Add more Dense layers to the existing code and check how the accuracy changes"
      ],
      "metadata": {
        "id": "GO9ChABy0RpD"
      }
    },
    {
      "cell_type": "code",
      "source": [
        "from google.colab import files\n",
        "uploaded = files.upload()\n"
      ],
      "metadata": {
        "colab": {
          "base_uri": "https://localhost:8080/",
          "height": 73
        },
        "id": "vT_OzANXkTme",
        "outputId": "950778fd-eafc-4141-9ff6-58b66bec308a"
      },
      "execution_count": 9,
      "outputs": [
        {
          "output_type": "display_data",
          "data": {
            "text/plain": [
              "<IPython.core.display.HTML object>"
            ],
            "text/html": [
              "\n",
              "     <input type=\"file\" id=\"files-998f7751-83ee-43af-ac3a-04d86dde3fad\" name=\"files[]\" multiple disabled\n",
              "        style=\"border:none\" />\n",
              "     <output id=\"result-998f7751-83ee-43af-ac3a-04d86dde3fad\">\n",
              "      Upload widget is only available when the cell has been executed in the\n",
              "      current browser session. Please rerun this cell to enable.\n",
              "      </output>\n",
              "      <script>// Copyright 2017 Google LLC\n",
              "//\n",
              "// Licensed under the Apache License, Version 2.0 (the \"License\");\n",
              "// you may not use this file except in compliance with the License.\n",
              "// You may obtain a copy of the License at\n",
              "//\n",
              "//      http://www.apache.org/licenses/LICENSE-2.0\n",
              "//\n",
              "// Unless required by applicable law or agreed to in writing, software\n",
              "// distributed under the License is distributed on an \"AS IS\" BASIS,\n",
              "// WITHOUT WARRANTIES OR CONDITIONS OF ANY KIND, either express or implied.\n",
              "// See the License for the specific language governing permissions and\n",
              "// limitations under the License.\n",
              "\n",
              "/**\n",
              " * @fileoverview Helpers for google.colab Python module.\n",
              " */\n",
              "(function(scope) {\n",
              "function span(text, styleAttributes = {}) {\n",
              "  const element = document.createElement('span');\n",
              "  element.textContent = text;\n",
              "  for (const key of Object.keys(styleAttributes)) {\n",
              "    element.style[key] = styleAttributes[key];\n",
              "  }\n",
              "  return element;\n",
              "}\n",
              "\n",
              "// Max number of bytes which will be uploaded at a time.\n",
              "const MAX_PAYLOAD_SIZE = 100 * 1024;\n",
              "\n",
              "function _uploadFiles(inputId, outputId) {\n",
              "  const steps = uploadFilesStep(inputId, outputId);\n",
              "  const outputElement = document.getElementById(outputId);\n",
              "  // Cache steps on the outputElement to make it available for the next call\n",
              "  // to uploadFilesContinue from Python.\n",
              "  outputElement.steps = steps;\n",
              "\n",
              "  return _uploadFilesContinue(outputId);\n",
              "}\n",
              "\n",
              "// This is roughly an async generator (not supported in the browser yet),\n",
              "// where there are multiple asynchronous steps and the Python side is going\n",
              "// to poll for completion of each step.\n",
              "// This uses a Promise to block the python side on completion of each step,\n",
              "// then passes the result of the previous step as the input to the next step.\n",
              "function _uploadFilesContinue(outputId) {\n",
              "  const outputElement = document.getElementById(outputId);\n",
              "  const steps = outputElement.steps;\n",
              "\n",
              "  const next = steps.next(outputElement.lastPromiseValue);\n",
              "  return Promise.resolve(next.value.promise).then((value) => {\n",
              "    // Cache the last promise value to make it available to the next\n",
              "    // step of the generator.\n",
              "    outputElement.lastPromiseValue = value;\n",
              "    return next.value.response;\n",
              "  });\n",
              "}\n",
              "\n",
              "/**\n",
              " * Generator function which is called between each async step of the upload\n",
              " * process.\n",
              " * @param {string} inputId Element ID of the input file picker element.\n",
              " * @param {string} outputId Element ID of the output display.\n",
              " * @return {!Iterable<!Object>} Iterable of next steps.\n",
              " */\n",
              "function* uploadFilesStep(inputId, outputId) {\n",
              "  const inputElement = document.getElementById(inputId);\n",
              "  inputElement.disabled = false;\n",
              "\n",
              "  const outputElement = document.getElementById(outputId);\n",
              "  outputElement.innerHTML = '';\n",
              "\n",
              "  const pickedPromise = new Promise((resolve) => {\n",
              "    inputElement.addEventListener('change', (e) => {\n",
              "      resolve(e.target.files);\n",
              "    });\n",
              "  });\n",
              "\n",
              "  const cancel = document.createElement('button');\n",
              "  inputElement.parentElement.appendChild(cancel);\n",
              "  cancel.textContent = 'Cancel upload';\n",
              "  const cancelPromise = new Promise((resolve) => {\n",
              "    cancel.onclick = () => {\n",
              "      resolve(null);\n",
              "    };\n",
              "  });\n",
              "\n",
              "  // Wait for the user to pick the files.\n",
              "  const files = yield {\n",
              "    promise: Promise.race([pickedPromise, cancelPromise]),\n",
              "    response: {\n",
              "      action: 'starting',\n",
              "    }\n",
              "  };\n",
              "\n",
              "  cancel.remove();\n",
              "\n",
              "  // Disable the input element since further picks are not allowed.\n",
              "  inputElement.disabled = true;\n",
              "\n",
              "  if (!files) {\n",
              "    return {\n",
              "      response: {\n",
              "        action: 'complete',\n",
              "      }\n",
              "    };\n",
              "  }\n",
              "\n",
              "  for (const file of files) {\n",
              "    const li = document.createElement('li');\n",
              "    li.append(span(file.name, {fontWeight: 'bold'}));\n",
              "    li.append(span(\n",
              "        `(${file.type || 'n/a'}) - ${file.size} bytes, ` +\n",
              "        `last modified: ${\n",
              "            file.lastModifiedDate ? file.lastModifiedDate.toLocaleDateString() :\n",
              "                                    'n/a'} - `));\n",
              "    const percent = span('0% done');\n",
              "    li.appendChild(percent);\n",
              "\n",
              "    outputElement.appendChild(li);\n",
              "\n",
              "    const fileDataPromise = new Promise((resolve) => {\n",
              "      const reader = new FileReader();\n",
              "      reader.onload = (e) => {\n",
              "        resolve(e.target.result);\n",
              "      };\n",
              "      reader.readAsArrayBuffer(file);\n",
              "    });\n",
              "    // Wait for the data to be ready.\n",
              "    let fileData = yield {\n",
              "      promise: fileDataPromise,\n",
              "      response: {\n",
              "        action: 'continue',\n",
              "      }\n",
              "    };\n",
              "\n",
              "    // Use a chunked sending to avoid message size limits. See b/62115660.\n",
              "    let position = 0;\n",
              "    do {\n",
              "      const length = Math.min(fileData.byteLength - position, MAX_PAYLOAD_SIZE);\n",
              "      const chunk = new Uint8Array(fileData, position, length);\n",
              "      position += length;\n",
              "\n",
              "      const base64 = btoa(String.fromCharCode.apply(null, chunk));\n",
              "      yield {\n",
              "        response: {\n",
              "          action: 'append',\n",
              "          file: file.name,\n",
              "          data: base64,\n",
              "        },\n",
              "      };\n",
              "\n",
              "      let percentDone = fileData.byteLength === 0 ?\n",
              "          100 :\n",
              "          Math.round((position / fileData.byteLength) * 100);\n",
              "      percent.textContent = `${percentDone}% done`;\n",
              "\n",
              "    } while (position < fileData.byteLength);\n",
              "  }\n",
              "\n",
              "  // All done.\n",
              "  yield {\n",
              "    response: {\n",
              "      action: 'complete',\n",
              "    }\n",
              "  };\n",
              "}\n",
              "\n",
              "scope.google = scope.google || {};\n",
              "scope.google.colab = scope.google.colab || {};\n",
              "scope.google.colab._files = {\n",
              "  _uploadFiles,\n",
              "  _uploadFilesContinue,\n",
              "};\n",
              "})(self);\n",
              "</script> "
            ]
          },
          "metadata": {}
        },
        {
          "output_type": "stream",
          "name": "stdout",
          "text": [
            "Saving diabetes.csv to diabetes.csv\n"
          ]
        }
      ]
    },
    {
      "cell_type": "code",
      "source": [
        "import pandas as pd\n",
        "from sklearn.model_selection import train_test_split\n",
        "from keras.models import Sequential\n",
        "from keras.layers import Dense\n",
        "\n",
        "# Load dataset from CSV\n",
        "dataset = pd.read_csv('diabetes.csv', header=None).values\n",
        "\n",
        "# Split the dataset into features (X) and target (Y)\n",
        "X_train, X_test, Y_train, Y_test = train_test_split(dataset[:,0:8], dataset[:,8],\n",
        "                                                    test_size=0.25, random_state=87)\n",
        "\n",
        "# Define the neural network model\n",
        "my_first_nn = Sequential()\n",
        "my_first_nn.add(Dense(20, input_dim=8, activation='relu'))  # Hidden layer 1\n",
        "my_first_nn.add(Dense(16, activation='relu'))  # Hidden layer 2\n",
        "my_first_nn.add(Dense(12, activation='relu'))  # Hidden layer 3\n",
        "my_first_nn.add(Dense(8, activation='relu'))  # Hidden layer 4\n",
        "my_first_nn.add(Dense(1, activation='sigmoid'))  # Output layer\n",
        "\n",
        "# Compile the model\n",
        "my_first_nn.compile(loss='binary_crossentropy', optimizer='adam', metrics=['accuracy'])\n",
        "\n",
        "# Train the model\n",
        "my_first_nn_fitted = my_first_nn.fit(X_train, Y_train, epochs=100, initial_epoch=0, verbose=0)\n",
        "\n",
        "# Print model summary\n",
        "print(my_first_nn.summary())\n",
        "\n",
        "# Evaluate the model on the testing data\n",
        "evaluation_result = my_first_nn.evaluate(X_test, Y_test)\n",
        "print(\"Test Loss and Accuracy:\", evaluation_result)\n"
      ],
      "metadata": {
        "colab": {
          "base_uri": "https://localhost:8080/"
        },
        "id": "mNaL9HH0kye7",
        "outputId": "28f9e7e0-b1ac-4e3e-e93c-48fdc74be2b4"
      },
      "execution_count": 11,
      "outputs": [
        {
          "output_type": "stream",
          "name": "stdout",
          "text": [
            "Model: \"sequential\"\n",
            "_________________________________________________________________\n",
            " Layer (type)                Output Shape              Param #   \n",
            "=================================================================\n",
            " dense (Dense)               (None, 20)                180       \n",
            "                                                                 \n",
            " dense_1 (Dense)             (None, 16)                336       \n",
            "                                                                 \n",
            " dense_2 (Dense)             (None, 12)                204       \n",
            "                                                                 \n",
            " dense_3 (Dense)             (None, 8)                 104       \n",
            "                                                                 \n",
            " dense_4 (Dense)             (None, 1)                 9         \n",
            "                                                                 \n",
            "=================================================================\n",
            "Total params: 833 (3.25 KB)\n",
            "Trainable params: 833 (3.25 KB)\n",
            "Non-trainable params: 0 (0.00 Byte)\n",
            "_________________________________________________________________\n",
            "None\n",
            "6/6 [==============================] - 0s 3ms/step - loss: 0.5418 - accuracy: 0.7083\n",
            "Test Loss and Accuracy: [0.5417972207069397, 0.7083333134651184]\n"
          ]
        }
      ]
    },
    {
      "cell_type": "code",
      "source": [],
      "metadata": {
        "id": "NFELAFQy0Z1i"
      },
      "execution_count": null,
      "outputs": []
    },
    {
      "cell_type": "markdown",
      "source": [
        "b) Change the data source to Breast Cancer dataset * available in the source code folder and make required\n",
        "changes. Report accuracy of the model."
      ],
      "metadata": {
        "id": "Fz1PNrFN0bQW"
      }
    },
    {
      "cell_type": "code",
      "source": [
        "from google.colab import files\n",
        "uploaded = files.upload()"
      ],
      "metadata": {
        "colab": {
          "base_uri": "https://localhost:8080/",
          "height": 73
        },
        "id": "xyng_49emDup",
        "outputId": "1af835c3-3e39-4d34-d988-1da1361697e9"
      },
      "execution_count": 12,
      "outputs": [
        {
          "output_type": "display_data",
          "data": {
            "text/plain": [
              "<IPython.core.display.HTML object>"
            ],
            "text/html": [
              "\n",
              "     <input type=\"file\" id=\"files-23d16d05-8be9-484d-bc22-33cabbffc8c2\" name=\"files[]\" multiple disabled\n",
              "        style=\"border:none\" />\n",
              "     <output id=\"result-23d16d05-8be9-484d-bc22-33cabbffc8c2\">\n",
              "      Upload widget is only available when the cell has been executed in the\n",
              "      current browser session. Please rerun this cell to enable.\n",
              "      </output>\n",
              "      <script>// Copyright 2017 Google LLC\n",
              "//\n",
              "// Licensed under the Apache License, Version 2.0 (the \"License\");\n",
              "// you may not use this file except in compliance with the License.\n",
              "// You may obtain a copy of the License at\n",
              "//\n",
              "//      http://www.apache.org/licenses/LICENSE-2.0\n",
              "//\n",
              "// Unless required by applicable law or agreed to in writing, software\n",
              "// distributed under the License is distributed on an \"AS IS\" BASIS,\n",
              "// WITHOUT WARRANTIES OR CONDITIONS OF ANY KIND, either express or implied.\n",
              "// See the License for the specific language governing permissions and\n",
              "// limitations under the License.\n",
              "\n",
              "/**\n",
              " * @fileoverview Helpers for google.colab Python module.\n",
              " */\n",
              "(function(scope) {\n",
              "function span(text, styleAttributes = {}) {\n",
              "  const element = document.createElement('span');\n",
              "  element.textContent = text;\n",
              "  for (const key of Object.keys(styleAttributes)) {\n",
              "    element.style[key] = styleAttributes[key];\n",
              "  }\n",
              "  return element;\n",
              "}\n",
              "\n",
              "// Max number of bytes which will be uploaded at a time.\n",
              "const MAX_PAYLOAD_SIZE = 100 * 1024;\n",
              "\n",
              "function _uploadFiles(inputId, outputId) {\n",
              "  const steps = uploadFilesStep(inputId, outputId);\n",
              "  const outputElement = document.getElementById(outputId);\n",
              "  // Cache steps on the outputElement to make it available for the next call\n",
              "  // to uploadFilesContinue from Python.\n",
              "  outputElement.steps = steps;\n",
              "\n",
              "  return _uploadFilesContinue(outputId);\n",
              "}\n",
              "\n",
              "// This is roughly an async generator (not supported in the browser yet),\n",
              "// where there are multiple asynchronous steps and the Python side is going\n",
              "// to poll for completion of each step.\n",
              "// This uses a Promise to block the python side on completion of each step,\n",
              "// then passes the result of the previous step as the input to the next step.\n",
              "function _uploadFilesContinue(outputId) {\n",
              "  const outputElement = document.getElementById(outputId);\n",
              "  const steps = outputElement.steps;\n",
              "\n",
              "  const next = steps.next(outputElement.lastPromiseValue);\n",
              "  return Promise.resolve(next.value.promise).then((value) => {\n",
              "    // Cache the last promise value to make it available to the next\n",
              "    // step of the generator.\n",
              "    outputElement.lastPromiseValue = value;\n",
              "    return next.value.response;\n",
              "  });\n",
              "}\n",
              "\n",
              "/**\n",
              " * Generator function which is called between each async step of the upload\n",
              " * process.\n",
              " * @param {string} inputId Element ID of the input file picker element.\n",
              " * @param {string} outputId Element ID of the output display.\n",
              " * @return {!Iterable<!Object>} Iterable of next steps.\n",
              " */\n",
              "function* uploadFilesStep(inputId, outputId) {\n",
              "  const inputElement = document.getElementById(inputId);\n",
              "  inputElement.disabled = false;\n",
              "\n",
              "  const outputElement = document.getElementById(outputId);\n",
              "  outputElement.innerHTML = '';\n",
              "\n",
              "  const pickedPromise = new Promise((resolve) => {\n",
              "    inputElement.addEventListener('change', (e) => {\n",
              "      resolve(e.target.files);\n",
              "    });\n",
              "  });\n",
              "\n",
              "  const cancel = document.createElement('button');\n",
              "  inputElement.parentElement.appendChild(cancel);\n",
              "  cancel.textContent = 'Cancel upload';\n",
              "  const cancelPromise = new Promise((resolve) => {\n",
              "    cancel.onclick = () => {\n",
              "      resolve(null);\n",
              "    };\n",
              "  });\n",
              "\n",
              "  // Wait for the user to pick the files.\n",
              "  const files = yield {\n",
              "    promise: Promise.race([pickedPromise, cancelPromise]),\n",
              "    response: {\n",
              "      action: 'starting',\n",
              "    }\n",
              "  };\n",
              "\n",
              "  cancel.remove();\n",
              "\n",
              "  // Disable the input element since further picks are not allowed.\n",
              "  inputElement.disabled = true;\n",
              "\n",
              "  if (!files) {\n",
              "    return {\n",
              "      response: {\n",
              "        action: 'complete',\n",
              "      }\n",
              "    };\n",
              "  }\n",
              "\n",
              "  for (const file of files) {\n",
              "    const li = document.createElement('li');\n",
              "    li.append(span(file.name, {fontWeight: 'bold'}));\n",
              "    li.append(span(\n",
              "        `(${file.type || 'n/a'}) - ${file.size} bytes, ` +\n",
              "        `last modified: ${\n",
              "            file.lastModifiedDate ? file.lastModifiedDate.toLocaleDateString() :\n",
              "                                    'n/a'} - `));\n",
              "    const percent = span('0% done');\n",
              "    li.appendChild(percent);\n",
              "\n",
              "    outputElement.appendChild(li);\n",
              "\n",
              "    const fileDataPromise = new Promise((resolve) => {\n",
              "      const reader = new FileReader();\n",
              "      reader.onload = (e) => {\n",
              "        resolve(e.target.result);\n",
              "      };\n",
              "      reader.readAsArrayBuffer(file);\n",
              "    });\n",
              "    // Wait for the data to be ready.\n",
              "    let fileData = yield {\n",
              "      promise: fileDataPromise,\n",
              "      response: {\n",
              "        action: 'continue',\n",
              "      }\n",
              "    };\n",
              "\n",
              "    // Use a chunked sending to avoid message size limits. See b/62115660.\n",
              "    let position = 0;\n",
              "    do {\n",
              "      const length = Math.min(fileData.byteLength - position, MAX_PAYLOAD_SIZE);\n",
              "      const chunk = new Uint8Array(fileData, position, length);\n",
              "      position += length;\n",
              "\n",
              "      const base64 = btoa(String.fromCharCode.apply(null, chunk));\n",
              "      yield {\n",
              "        response: {\n",
              "          action: 'append',\n",
              "          file: file.name,\n",
              "          data: base64,\n",
              "        },\n",
              "      };\n",
              "\n",
              "      let percentDone = fileData.byteLength === 0 ?\n",
              "          100 :\n",
              "          Math.round((position / fileData.byteLength) * 100);\n",
              "      percent.textContent = `${percentDone}% done`;\n",
              "\n",
              "    } while (position < fileData.byteLength);\n",
              "  }\n",
              "\n",
              "  // All done.\n",
              "  yield {\n",
              "    response: {\n",
              "      action: 'complete',\n",
              "    }\n",
              "  };\n",
              "}\n",
              "\n",
              "scope.google = scope.google || {};\n",
              "scope.google.colab = scope.google.colab || {};\n",
              "scope.google.colab._files = {\n",
              "  _uploadFiles,\n",
              "  _uploadFilesContinue,\n",
              "};\n",
              "})(self);\n",
              "</script> "
            ]
          },
          "metadata": {}
        },
        {
          "output_type": "stream",
          "name": "stdout",
          "text": [
            "Saving breastcancer.csv to breastcancer.csv\n"
          ]
        }
      ]
    },
    {
      "cell_type": "code",
      "source": [
        "import numpy as np\n",
        "import pandas as pd\n",
        "from sklearn.model_selection import train_test_split\n",
        "from tensorflow.keras.models import Sequential\n",
        "from tensorflow.keras.layers import Dense\n",
        "\n",
        "# Load the breast cancer dataset from the source code folder\n",
        "data = pd.read_csv('breastcancer.csv')  # Adjust the filename if necessary\n",
        "\n",
        "# Split the dataset into features (X) and target (y)\n",
        "X = data.drop('diagnosis', axis=1)\n",
        "y = data['diagnosis']\n",
        "\n",
        "# Convert diagnosis labels to binary (0 for benign, 1 for malignant)\n",
        "y = y.map({'B': 0, 'M': 1})\n",
        "\n",
        "# Split the dataset into training and testing sets\n",
        "X_train, X_test, y_train, y_test = train_test_split(X, y, test_size=0.2, random_state=42)\n",
        "\n",
        "# Define the model architecture\n",
        "model = Sequential()\n",
        "model.add(Dense(128, activation='relu', input_shape=(X_train.shape[1],)))\n",
        "model.add(Dense(64, activation='relu'))\n",
        "model.add(Dense(32, activation='relu'))\n",
        "model.add(Dense(1, activation='sigmoid'))\n",
        "\n",
        "# Compile the model\n",
        "model.compile(optimizer='adam', loss='binary_crossentropy', metrics=['accuracy'])\n",
        "\n",
        "# Train the model\n",
        "model.fit(X_train, y_train, epochs=50, batch_size=32, verbose=1)\n",
        "\n",
        "# Evaluate the model\n",
        "test_loss, test_acc = model.evaluate(X_test, y_test)\n",
        "print(model.summary())\n",
        "print(\"Test Accuracy:\", test_acc)\n",
        "\n"
      ],
      "metadata": {
        "colab": {
          "base_uri": "https://localhost:8080/"
        },
        "id": "thb9xOjnmHBB",
        "outputId": "fc997089-ff7d-4858-e355-211034643a9a"
      },
      "execution_count": 18,
      "outputs": [
        {
          "output_type": "stream",
          "name": "stdout",
          "text": [
            "Epoch 1/50\n",
            "15/15 [==============================] - 1s 5ms/step - loss: nan - accuracy: 0.6286\n",
            "Epoch 2/50\n",
            "15/15 [==============================] - 0s 3ms/step - loss: nan - accuracy: 0.6286\n",
            "Epoch 3/50\n",
            "15/15 [==============================] - 0s 3ms/step - loss: nan - accuracy: 0.6286\n",
            "Epoch 4/50\n",
            "15/15 [==============================] - 0s 3ms/step - loss: nan - accuracy: 0.6286\n",
            "Epoch 5/50\n",
            "15/15 [==============================] - 0s 2ms/step - loss: nan - accuracy: 0.6286\n",
            "Epoch 6/50\n",
            "15/15 [==============================] - 0s 3ms/step - loss: nan - accuracy: 0.6286\n",
            "Epoch 7/50\n",
            "15/15 [==============================] - 0s 3ms/step - loss: nan - accuracy: 0.6286\n",
            "Epoch 8/50\n",
            "15/15 [==============================] - 0s 2ms/step - loss: nan - accuracy: 0.6286\n",
            "Epoch 9/50\n",
            "15/15 [==============================] - 0s 2ms/step - loss: nan - accuracy: 0.6286\n",
            "Epoch 10/50\n",
            "15/15 [==============================] - 0s 3ms/step - loss: nan - accuracy: 0.6286\n",
            "Epoch 11/50\n",
            "15/15 [==============================] - 0s 3ms/step - loss: nan - accuracy: 0.6286\n",
            "Epoch 12/50\n",
            "15/15 [==============================] - 0s 3ms/step - loss: nan - accuracy: 0.6286\n",
            "Epoch 13/50\n",
            "15/15 [==============================] - 0s 3ms/step - loss: nan - accuracy: 0.6286\n",
            "Epoch 14/50\n",
            "15/15 [==============================] - 0s 3ms/step - loss: nan - accuracy: 0.6286\n",
            "Epoch 15/50\n",
            "15/15 [==============================] - 0s 2ms/step - loss: nan - accuracy: 0.6286\n",
            "Epoch 16/50\n",
            "15/15 [==============================] - 0s 3ms/step - loss: nan - accuracy: 0.6286\n",
            "Epoch 17/50\n",
            "15/15 [==============================] - 0s 3ms/step - loss: nan - accuracy: 0.6286\n",
            "Epoch 18/50\n",
            "15/15 [==============================] - 0s 3ms/step - loss: nan - accuracy: 0.6286\n",
            "Epoch 19/50\n",
            "15/15 [==============================] - 0s 2ms/step - loss: nan - accuracy: 0.6286\n",
            "Epoch 20/50\n",
            "15/15 [==============================] - 0s 3ms/step - loss: nan - accuracy: 0.6286\n",
            "Epoch 21/50\n",
            "15/15 [==============================] - 0s 3ms/step - loss: nan - accuracy: 0.6286\n",
            "Epoch 22/50\n",
            "15/15 [==============================] - 0s 4ms/step - loss: nan - accuracy: 0.6286\n",
            "Epoch 23/50\n",
            "15/15 [==============================] - 0s 3ms/step - loss: nan - accuracy: 0.6286\n",
            "Epoch 24/50\n",
            "15/15 [==============================] - 0s 3ms/step - loss: nan - accuracy: 0.6286\n",
            "Epoch 25/50\n",
            "15/15 [==============================] - 0s 3ms/step - loss: nan - accuracy: 0.6286\n",
            "Epoch 26/50\n",
            "15/15 [==============================] - 0s 3ms/step - loss: nan - accuracy: 0.6286\n",
            "Epoch 27/50\n",
            "15/15 [==============================] - 0s 3ms/step - loss: nan - accuracy: 0.6286\n",
            "Epoch 28/50\n",
            "15/15 [==============================] - 0s 3ms/step - loss: nan - accuracy: 0.6286\n",
            "Epoch 29/50\n",
            "15/15 [==============================] - 0s 2ms/step - loss: nan - accuracy: 0.6286\n",
            "Epoch 30/50\n",
            "15/15 [==============================] - 0s 3ms/step - loss: nan - accuracy: 0.6286\n",
            "Epoch 31/50\n",
            "15/15 [==============================] - 0s 2ms/step - loss: nan - accuracy: 0.6286\n",
            "Epoch 32/50\n",
            "15/15 [==============================] - 0s 3ms/step - loss: nan - accuracy: 0.6286\n",
            "Epoch 33/50\n",
            "15/15 [==============================] - 0s 2ms/step - loss: nan - accuracy: 0.6286\n",
            "Epoch 34/50\n",
            "15/15 [==============================] - 0s 3ms/step - loss: nan - accuracy: 0.6286\n",
            "Epoch 35/50\n",
            "15/15 [==============================] - 0s 3ms/step - loss: nan - accuracy: 0.6286\n",
            "Epoch 36/50\n",
            "15/15 [==============================] - 0s 3ms/step - loss: nan - accuracy: 0.6286\n",
            "Epoch 37/50\n",
            "15/15 [==============================] - 0s 3ms/step - loss: nan - accuracy: 0.6286\n",
            "Epoch 38/50\n",
            "15/15 [==============================] - 0s 3ms/step - loss: nan - accuracy: 0.6286\n",
            "Epoch 39/50\n",
            "15/15 [==============================] - 0s 3ms/step - loss: nan - accuracy: 0.6286\n",
            "Epoch 40/50\n",
            "15/15 [==============================] - 0s 2ms/step - loss: nan - accuracy: 0.6286\n",
            "Epoch 41/50\n",
            "15/15 [==============================] - 0s 3ms/step - loss: nan - accuracy: 0.6286\n",
            "Epoch 42/50\n",
            "15/15 [==============================] - 0s 3ms/step - loss: nan - accuracy: 0.6286\n",
            "Epoch 43/50\n",
            "15/15 [==============================] - 0s 4ms/step - loss: nan - accuracy: 0.6286\n",
            "Epoch 44/50\n",
            "15/15 [==============================] - 0s 3ms/step - loss: nan - accuracy: 0.6286\n",
            "Epoch 45/50\n",
            "15/15 [==============================] - 0s 3ms/step - loss: nan - accuracy: 0.6286\n",
            "Epoch 46/50\n",
            "15/15 [==============================] - 0s 2ms/step - loss: nan - accuracy: 0.6286\n",
            "Epoch 47/50\n",
            "15/15 [==============================] - 0s 3ms/step - loss: nan - accuracy: 0.6286\n",
            "Epoch 48/50\n",
            "15/15 [==============================] - 0s 3ms/step - loss: nan - accuracy: 0.6286\n",
            "Epoch 49/50\n",
            "15/15 [==============================] - 0s 3ms/step - loss: nan - accuracy: 0.6286\n",
            "Epoch 50/50\n",
            "15/15 [==============================] - 0s 2ms/step - loss: nan - accuracy: 0.6286\n",
            "4/4 [==============================] - 0s 4ms/step - loss: nan - accuracy: 0.6228\n",
            "Model: \"sequential_4\"\n",
            "_________________________________________________________________\n",
            " Layer (type)                Output Shape              Param #   \n",
            "=================================================================\n",
            " dense_18 (Dense)            (None, 128)               4224      \n",
            "                                                                 \n",
            " dense_19 (Dense)            (None, 64)                8256      \n",
            "                                                                 \n",
            " dense_20 (Dense)            (None, 32)                2080      \n",
            "                                                                 \n",
            " dense_21 (Dense)            (None, 1)                 33        \n",
            "                                                                 \n",
            "=================================================================\n",
            "Total params: 14593 (57.00 KB)\n",
            "Trainable params: 14593 (57.00 KB)\n",
            "Non-trainable params: 0 (0.00 Byte)\n",
            "_________________________________________________________________\n",
            "None\n",
            "Test Accuracy: 0.6228070259094238\n"
          ]
        }
      ]
    },
    {
      "cell_type": "code",
      "source": [],
      "metadata": {
        "id": "RVsY2heB0i1N"
      },
      "execution_count": null,
      "outputs": []
    },
    {
      "cell_type": "markdown",
      "source": [
        "c) Normalize the data before feeding the data to the model and check how the normalization change your accuracy (code given below).\n",
        "from sklearn.preprocessing import StandardScaler\n",
        "sc = StandardScaler()\n"
      ],
      "metadata": {
        "id": "1QRYHeo70oaX"
      }
    },
    {
      "cell_type": "code",
      "source": [
        "import numpy as np\n",
        "import pandas as pd\n",
        "from sklearn.model_selection import train_test_split\n",
        "from sklearn.preprocessing import StandardScaler\n",
        "from tensorflow.keras.models import Sequential\n",
        "from tensorflow.keras.layers import Dense\n",
        "\n",
        "# Load the breast cancer dataset from the source code folder\n",
        "data = pd.read_csv('breastcancer.csv')  # Adjust the filename if necessary\n",
        "\n",
        "# Split the dataset into features (X) and target (y)\n",
        "X = data.drop('diagnosis', axis=1)\n",
        "y = data['diagnosis']\n",
        "\n",
        "# Convert diagnosis labels to binary (0 for benign, 1 for malignant)\n",
        "y = y.map({'B': 0, 'M': 1})\n",
        "\n",
        "# Split the dataset into training and testing sets\n",
        "X_train, X_test, y_train, y_test = train_test_split(X, y, test_size=0.2, random_state=42)\n",
        "\n",
        "# Normalize the data\n",
        "scaler = StandardScaler()\n",
        "X_train_normalized = scaler.fit_transform(X_train)\n",
        "X_test_normalized = scaler.transform(X_test)\n",
        "\n",
        "# Define the model architecture\n",
        "model = Sequential()\n",
        "model.add(Dense(128, activation='relu', input_shape=(X_train.shape[1],)))\n",
        "model.add(Dense(64, activation='relu'))\n",
        "model.add(Dense(32, activation='relu'))\n",
        "model.add(Dense(1, activation='sigmoid'))\n",
        "\n",
        "# Compile the model\n",
        "model.compile(optimizer='adam', loss='binary_crossentropy', metrics=['accuracy'])\n",
        "\n",
        "# Train the model\n",
        "model.fit(X_train_normalized, y_train, epochs=50, batch_size=32, verbose=1)\n",
        "\n",
        "# Evaluate the model\n",
        "test_loss, test_acc = model.evaluate(X_test_normalized, y_test)\n",
        "print(\"Test Accuracy:\", test_acc)\n"
      ],
      "metadata": {
        "colab": {
          "base_uri": "https://localhost:8080/"
        },
        "id": "YaUw6_YIo3GH",
        "outputId": "b37b3acf-1798-4a67-849a-0c6b82979fec"
      },
      "execution_count": 17,
      "outputs": [
        {
          "output_type": "stream",
          "name": "stdout",
          "text": [
            "Epoch 1/50\n"
          ]
        },
        {
          "output_type": "stream",
          "name": "stderr",
          "text": [
            "/usr/local/lib/python3.10/dist-packages/sklearn/utils/extmath.py:1047: RuntimeWarning: invalid value encountered in divide\n",
            "  updated_mean = (last_sum + new_sum) / updated_sample_count\n",
            "/usr/local/lib/python3.10/dist-packages/sklearn/utils/extmath.py:1052: RuntimeWarning: invalid value encountered in divide\n",
            "  T = new_sum / new_sample_count\n",
            "/usr/local/lib/python3.10/dist-packages/sklearn/utils/extmath.py:1072: RuntimeWarning: invalid value encountered in divide\n",
            "  new_unnormalized_variance -= correction**2 / new_sample_count\n"
          ]
        },
        {
          "output_type": "stream",
          "name": "stdout",
          "text": [
            "15/15 [==============================] - 1s 3ms/step - loss: nan - accuracy: 0.6286\n",
            "Epoch 2/50\n",
            "15/15 [==============================] - 0s 3ms/step - loss: nan - accuracy: 0.6286\n",
            "Epoch 3/50\n",
            "15/15 [==============================] - 0s 2ms/step - loss: nan - accuracy: 0.6286\n",
            "Epoch 4/50\n",
            "15/15 [==============================] - 0s 2ms/step - loss: nan - accuracy: 0.6286\n",
            "Epoch 5/50\n",
            "15/15 [==============================] - 0s 3ms/step - loss: nan - accuracy: 0.6286\n",
            "Epoch 6/50\n",
            "15/15 [==============================] - 0s 2ms/step - loss: nan - accuracy: 0.6286\n",
            "Epoch 7/50\n",
            "15/15 [==============================] - 0s 3ms/step - loss: nan - accuracy: 0.6286\n",
            "Epoch 8/50\n",
            "15/15 [==============================] - 0s 2ms/step - loss: nan - accuracy: 0.6286\n",
            "Epoch 9/50\n",
            "15/15 [==============================] - 0s 2ms/step - loss: nan - accuracy: 0.6286\n",
            "Epoch 10/50\n",
            "15/15 [==============================] - 0s 2ms/step - loss: nan - accuracy: 0.6286\n",
            "Epoch 11/50\n",
            "15/15 [==============================] - 0s 2ms/step - loss: nan - accuracy: 0.6286\n",
            "Epoch 12/50\n",
            "15/15 [==============================] - 0s 3ms/step - loss: nan - accuracy: 0.6286\n",
            "Epoch 13/50\n",
            "15/15 [==============================] - 0s 2ms/step - loss: nan - accuracy: 0.6286\n",
            "Epoch 14/50\n",
            "15/15 [==============================] - 0s 2ms/step - loss: nan - accuracy: 0.6286\n",
            "Epoch 15/50\n",
            "15/15 [==============================] - 0s 2ms/step - loss: nan - accuracy: 0.6286\n",
            "Epoch 16/50\n",
            "15/15 [==============================] - 0s 2ms/step - loss: nan - accuracy: 0.6286\n",
            "Epoch 17/50\n",
            "15/15 [==============================] - 0s 3ms/step - loss: nan - accuracy: 0.6286\n",
            "Epoch 18/50\n",
            "15/15 [==============================] - 0s 2ms/step - loss: nan - accuracy: 0.6286\n",
            "Epoch 19/50\n",
            "15/15 [==============================] - 0s 3ms/step - loss: nan - accuracy: 0.6286\n",
            "Epoch 20/50\n",
            "15/15 [==============================] - 0s 3ms/step - loss: nan - accuracy: 0.6286\n",
            "Epoch 21/50\n",
            "15/15 [==============================] - 0s 2ms/step - loss: nan - accuracy: 0.6286\n",
            "Epoch 22/50\n",
            "15/15 [==============================] - 0s 2ms/step - loss: nan - accuracy: 0.6286\n",
            "Epoch 23/50\n",
            "15/15 [==============================] - 0s 2ms/step - loss: nan - accuracy: 0.6286\n",
            "Epoch 24/50\n",
            "15/15 [==============================] - 0s 2ms/step - loss: nan - accuracy: 0.6286\n",
            "Epoch 25/50\n",
            "15/15 [==============================] - 0s 2ms/step - loss: nan - accuracy: 0.6286\n",
            "Epoch 26/50\n",
            "15/15 [==============================] - 0s 2ms/step - loss: nan - accuracy: 0.6286\n",
            "Epoch 27/50\n",
            "15/15 [==============================] - 0s 2ms/step - loss: nan - accuracy: 0.6286\n",
            "Epoch 28/50\n",
            "15/15 [==============================] - 0s 2ms/step - loss: nan - accuracy: 0.6286\n",
            "Epoch 29/50\n",
            "15/15 [==============================] - 0s 2ms/step - loss: nan - accuracy: 0.6286\n",
            "Epoch 30/50\n",
            "15/15 [==============================] - 0s 3ms/step - loss: nan - accuracy: 0.6286\n",
            "Epoch 31/50\n",
            "15/15 [==============================] - 0s 2ms/step - loss: nan - accuracy: 0.6286\n",
            "Epoch 32/50\n",
            "15/15 [==============================] - 0s 2ms/step - loss: nan - accuracy: 0.6286\n",
            "Epoch 33/50\n",
            "15/15 [==============================] - 0s 2ms/step - loss: nan - accuracy: 0.6286\n",
            "Epoch 34/50\n",
            "15/15 [==============================] - 0s 2ms/step - loss: nan - accuracy: 0.6286\n",
            "Epoch 35/50\n",
            "15/15 [==============================] - 0s 3ms/step - loss: nan - accuracy: 0.6286\n",
            "Epoch 36/50\n",
            "15/15 [==============================] - 0s 2ms/step - loss: nan - accuracy: 0.6286\n",
            "Epoch 37/50\n",
            "15/15 [==============================] - 0s 2ms/step - loss: nan - accuracy: 0.6286\n",
            "Epoch 38/50\n",
            "15/15 [==============================] - 0s 2ms/step - loss: nan - accuracy: 0.6286\n",
            "Epoch 39/50\n",
            "15/15 [==============================] - 0s 3ms/step - loss: nan - accuracy: 0.6286\n",
            "Epoch 40/50\n",
            "15/15 [==============================] - 0s 3ms/step - loss: nan - accuracy: 0.6286\n",
            "Epoch 41/50\n",
            "15/15 [==============================] - 0s 2ms/step - loss: nan - accuracy: 0.6286\n",
            "Epoch 42/50\n",
            "15/15 [==============================] - 0s 2ms/step - loss: nan - accuracy: 0.6286\n",
            "Epoch 43/50\n",
            "15/15 [==============================] - 0s 3ms/step - loss: nan - accuracy: 0.6286\n",
            "Epoch 44/50\n",
            "15/15 [==============================] - 0s 2ms/step - loss: nan - accuracy: 0.6286\n",
            "Epoch 45/50\n",
            "15/15 [==============================] - 0s 2ms/step - loss: nan - accuracy: 0.6286\n",
            "Epoch 46/50\n",
            "15/15 [==============================] - 0s 3ms/step - loss: nan - accuracy: 0.6286\n",
            "Epoch 47/50\n",
            "15/15 [==============================] - 0s 2ms/step - loss: nan - accuracy: 0.6286\n",
            "Epoch 48/50\n",
            "15/15 [==============================] - 0s 2ms/step - loss: nan - accuracy: 0.6286\n",
            "Epoch 49/50\n",
            "15/15 [==============================] - 0s 3ms/step - loss: nan - accuracy: 0.6286\n",
            "Epoch 50/50\n",
            "15/15 [==============================] - 0s 2ms/step - loss: nan - accuracy: 0.6286\n",
            "4/4 [==============================] - 0s 4ms/step - loss: nan - accuracy: 0.6228\n",
            "Test Accuracy: 0.6228070259094238\n"
          ]
        }
      ]
    },
    {
      "cell_type": "code",
      "source": [],
      "metadata": {
        "id": "VmzL5W9EtJkn"
      },
      "execution_count": null,
      "outputs": []
    },
    {
      "cell_type": "markdown",
      "source": [
        "2)\n",
        "a) Plot the loss and accuracy for both training data and validation data using the history object in the source coded."
      ],
      "metadata": {
        "id": "elump_z4sSXX"
      }
    },
    {
      "cell_type": "code",
      "source": [
        "import numpy as np\n",
        "import matplotlib.pyplot as plt\n",
        "from tensorflow.keras.datasets import mnist\n",
        "from tensorflow.keras.models import Sequential\n",
        "from tensorflow.keras.layers import Dense, Flatten\n",
        "from tensorflow.keras.utils import to_categorical\n",
        "\n",
        "# Load and preprocess the dataset\n",
        "(X_train, y_train), (X_test, y_test) = mnist.load_data()\n",
        "X_train = X_train / 255.0\n",
        "X_test = X_test / 255.0\n",
        "\n",
        "# Reshape the data\n",
        "X_train = X_train.reshape(-1, 28, 28, 1)\n",
        "X_test = X_test.reshape(-1, 28, 28, 1)\n",
        "\n",
        "# One-hot encode the target labels\n",
        "y_train = to_categorical(y_train)\n",
        "y_test = to_categorical(y_test)\n",
        "\n",
        "# Define the model architecture\n",
        "model = Sequential([\n",
        "    Flatten(input_shape=(28, 28, 1)),\n",
        "    Dense(128, activation='relu'),\n",
        "    Dense(64, activation='relu'),\n",
        "    Dense(10, activation='softmax')\n",
        "])\n",
        "\n",
        "# Compile the model\n",
        "model.compile(optimizer='adam', loss='categorical_crossentropy', metrics=['accuracy'])\n",
        "\n",
        "# Train the model\n",
        "history = model.fit(X_train, y_train, epochs=10, validation_data=(X_test, y_test), verbose=1)\n",
        "\n",
        "# Plot the loss\n",
        "plt.plot(history.history['loss'], label='Training Loss')\n",
        "plt.plot(history.history['val_loss'], label='Validation Loss')\n",
        "plt.title('Loss')\n",
        "plt.xlabel('Epoch')\n",
        "plt.ylabel('Loss')\n",
        "plt.legend()\n",
        "plt.show()\n",
        "\n",
        "# Plot the accuracy\n",
        "plt.plot(history.history['accuracy'], label='Training Accuracy')\n",
        "plt.plot(history.history['val_accuracy'], label='Validation Accuracy')\n",
        "plt.title('Accuracy')\n",
        "plt.xlabel('Epoch')\n",
        "plt.ylabel('Accuracy')\n",
        "plt.legend()\n",
        "plt.show()\n"
      ],
      "metadata": {
        "colab": {
          "base_uri": "https://localhost:8080/",
          "height": 1000
        },
        "id": "q1tAJnvIs20j",
        "outputId": "e31b1e47-529a-4fe4-dced-b92b0f6442da"
      },
      "execution_count": 23,
      "outputs": [
        {
          "output_type": "stream",
          "name": "stdout",
          "text": [
            "Epoch 1/10\n",
            "1875/1875 [==============================] - 10s 5ms/step - loss: 0.2386 - accuracy: 0.9284 - val_loss: 0.1248 - val_accuracy: 0.9611\n",
            "Epoch 2/10\n",
            "1875/1875 [==============================] - 7s 4ms/step - loss: 0.1033 - accuracy: 0.9687 - val_loss: 0.0980 - val_accuracy: 0.9701\n",
            "Epoch 3/10\n",
            "1875/1875 [==============================] - 9s 5ms/step - loss: 0.0721 - accuracy: 0.9778 - val_loss: 0.1040 - val_accuracy: 0.9671\n",
            "Epoch 4/10\n",
            "1875/1875 [==============================] - 8s 4ms/step - loss: 0.0556 - accuracy: 0.9823 - val_loss: 0.0876 - val_accuracy: 0.9736\n",
            "Epoch 5/10\n",
            "1875/1875 [==============================] - 8s 4ms/step - loss: 0.0434 - accuracy: 0.9863 - val_loss: 0.0988 - val_accuracy: 0.9722\n",
            "Epoch 6/10\n",
            "1875/1875 [==============================] - 9s 5ms/step - loss: 0.0369 - accuracy: 0.9882 - val_loss: 0.0808 - val_accuracy: 0.9774\n",
            "Epoch 7/10\n",
            "1875/1875 [==============================] - 7s 4ms/step - loss: 0.0297 - accuracy: 0.9906 - val_loss: 0.0900 - val_accuracy: 0.9774\n",
            "Epoch 8/10\n",
            "1875/1875 [==============================] - 9s 5ms/step - loss: 0.0239 - accuracy: 0.9921 - val_loss: 0.0775 - val_accuracy: 0.9774\n",
            "Epoch 9/10\n",
            "1875/1875 [==============================] - 7s 4ms/step - loss: 0.0227 - accuracy: 0.9924 - val_loss: 0.0779 - val_accuracy: 0.9787\n",
            "Epoch 10/10\n",
            "1875/1875 [==============================] - 9s 5ms/step - loss: 0.0177 - accuracy: 0.9943 - val_loss: 0.1047 - val_accuracy: 0.9762\n"
          ]
        },
        {
          "output_type": "display_data",
          "data": {
            "text/plain": [
              "<Figure size 640x480 with 1 Axes>"
            ],
            "image/png": "[encoded data removed]"
          },
          "metadata": {}
        },
        {
          "output_type": "display_data",
          "data": {
            "text/plain": [
              "<Figure size 640x480 with 1 Axes>"
            ],
            "image/png": "[encoded data removed]"
          },
          "metadata": {}
        }
      ]
    },
    {
      "cell_type": "code",
      "source": [],
      "metadata": {
        "id": "RksWYhxctN4B"
      },
      "execution_count": null,
      "outputs": []
    },
    {
      "cell_type": "markdown",
      "source": [
        "b) Plot one of the images in the test data, and then do inferencing to check what is the prediction of the model\n",
        "on that single image."
      ],
      "metadata": {
        "id": "chPpXN10tOtq"
      }
    },
    {
      "cell_type": "code",
      "source": [
        "import numpy as np\n",
        "import matplotlib.pyplot as plt\n",
        "from keras.datasets import mnist\n",
        "from keras.utils import to_categorical\n",
        "from keras.models import Sequential\n",
        "from keras.layers import Dense\n",
        "from keras.optimizers import Adam\n",
        "\n",
        "# Load the MNIST dataset\n",
        "(X_train, y_train), (X_test, y_test) = mnist.load_data()\n",
        "\n",
        "# Preprocess the data and normalize the pixel values to [0, 1]\n",
        "X_train = X_train.astype('float32') / 255\n",
        "X_test = X_test.astype('float32') / 255\n",
        "\n",
        "# Flatten the images from 28x28 to 784-dimensional vectors\n",
        "X_train = X_train.reshape((len(X_train), 28 * 28))\n",
        "X_test = X_test.reshape((len(X_test), 28 * 28))\n",
        "\n",
        "# One-hot encode the target labels\n",
        "y_train = to_categorical(y_train, 10)\n",
        "y_test = to_categorical(y_test, 10)\n",
        "\n",
        "# Create the model\n",
        "model = Sequential()\n",
        "model.add(Dense(128, activation='relu', input_shape=(784,)))\n",
        "model.add(Dense(64, activation='relu'))\n",
        "model.add(Dense(10, activation='softmax'))\n",
        "\n",
        "# Compile the model\n",
        "model.compile(optimizer=Adam(), loss='categorical_crossentropy', metrics=['accuracy'])\n",
        "\n",
        "# Train the model\n",
        "model.fit(X_train, y_train, epochs=10, batch_size=128, validation_split=0.2)\n",
        "\n",
        "# Plot one of the images from the test data\n",
        "image_idx = 0  # Change this index to see different images\n",
        "plt.imshow(X_test[image_idx].reshape(28, 28), cmap='gray')\n",
        "plt.title(f\"True Label: {np.argmax(y_test[image_idx])}\")\n",
        "plt.show()\n",
        "\n",
        "# Make predictions on the single image\n",
        "single_image = X_test[image_idx].reshape(1, 784)  # Reshape to 1x784 for prediction\n",
        "prediction = model.predict(single_image)\n",
        "predicted_label = np.argmax(prediction)\n",
        "\n",
        "print(f\"Predicted Label: {predicted_label}\")"
      ],
      "metadata": {
        "colab": {
          "base_uri": "https://localhost:8080/",
          "height": 834
        },
        "id": "YNZ1x3DCtU6N",
        "outputId": "ac5544c7-85ef-43ed-c701-bdd638003b6d"
      },
      "execution_count": 21,
      "outputs": [
        {
          "output_type": "stream",
          "name": "stdout",
          "text": [
            "Epoch 1/10\n",
            "375/375 [==============================] - 3s 6ms/step - loss: 0.3844 - accuracy: 0.8907 - val_loss: 0.1868 - val_accuracy: 0.9473\n",
            "Epoch 2/10\n",
            "375/375 [==============================] - 4s 12ms/step - loss: 0.1557 - accuracy: 0.9549 - val_loss: 0.1426 - val_accuracy: 0.9572\n",
            "Epoch 3/10\n",
            "375/375 [==============================] - 4s 10ms/step - loss: 0.1090 - accuracy: 0.9675 - val_loss: 0.1064 - val_accuracy: 0.9687\n",
            "Epoch 4/10\n",
            "375/375 [==============================] - 3s 9ms/step - loss: 0.0819 - accuracy: 0.9755 - val_loss: 0.1006 - val_accuracy: 0.9716\n",
            "Epoch 5/10\n",
            "375/375 [==============================] - 3s 8ms/step - loss: 0.0636 - accuracy: 0.9816 - val_loss: 0.0949 - val_accuracy: 0.9712\n",
            "Epoch 6/10\n",
            "375/375 [==============================] - 5s 13ms/step - loss: 0.0519 - accuracy: 0.9847 - val_loss: 0.1063 - val_accuracy: 0.9677\n",
            "Epoch 7/10\n",
            "375/375 [==============================] - 3s 8ms/step - loss: 0.0420 - accuracy: 0.9872 - val_loss: 0.0975 - val_accuracy: 0.9716\n",
            "Epoch 8/10\n",
            "375/375 [==============================] - 2s 5ms/step - loss: 0.0331 - accuracy: 0.9901 - val_loss: 0.0952 - val_accuracy: 0.9734\n",
            "Epoch 9/10\n",
            "375/375 [==============================] - 4s 10ms/step - loss: 0.0277 - accuracy: 0.9915 - val_loss: 0.0941 - val_accuracy: 0.9735\n",
            "Epoch 10/10\n",
            "375/375 [==============================] - 5s 12ms/step - loss: 0.0232 - accuracy: 0.9931 - val_loss: 0.0907 - val_accuracy: 0.9753\n"
          ]
        },
        {
          "output_type": "display_data",
          "data": {
            "text/plain": [
              "<Figure size 640x480 with 1 Axes>"
            ],
            "image/png": "[encoded data removed]"
          },
          "metadata": {}
        },
        {
          "output_type": "stream",
          "name": "stdout",
          "text": [
            "1/1 [==============================] - 0s 213ms/step\n",
            "Predicted Label: 7\n"
          ]
        }
      ]
    },
    {
      "cell_type": "code",
      "source": [],
      "metadata": {
        "id": "2te1-_8btfYX"
      },
      "execution_count": null,
      "outputs": []
    },
    {
      "cell_type": "markdown",
      "source": [
        "c) We had used 2 hidden layers and Relu activation. Try to change the number of hidden layer and the\n",
        "activation to tanh or sigmoid and see what happens"
      ],
      "metadata": {
        "id": "uyQ220J_thOS"
      }
    },
    {
      "cell_type": "code",
      "source": [
        "import numpy as np\n",
        "import matplotlib.pyplot as plt\n",
        "from tensorflow.keras.datasets import mnist\n",
        "from tensorflow.keras.models import Sequential\n",
        "from tensorflow.keras.layers import Dense, Flatten\n",
        "from tensorflow.keras.utils import to_categorical\n",
        "\n",
        "# Load the MNIST dataset\n",
        "(X_train, y_train), (X_test, y_test) = mnist.load_data()\n",
        "\n",
        "# Preprocess the data\n",
        "X_train = X_train / 255.0\n",
        "X_test = X_test / 255.0\n",
        "X_train = X_train.reshape(-1, 28, 28, 1)\n",
        "X_test = X_test.reshape(-1, 28, 28, 1)\n",
        "y_train = to_categorical(y_train)\n",
        "y_test = to_categorical(y_test)\n",
        "\n",
        "# Define the model architecture\n",
        "model = Sequential([\n",
        "    Flatten(input_shape=(28, 28, 1)),\n",
        "    Dense(128, activation='tanh'),  # Use tanh activation function\n",
        "    Dense(64, activation='sigmoid'),  # Use sigmoid activation function\n",
        "    Dense(10, activation='softmax')\n",
        "])\n",
        "\n",
        "# Compile the model\n",
        "model.compile(optimizer='adam', loss='categorical_crossentropy', metrics=['accuracy'])\n",
        "\n",
        "# Train the model\n",
        "history = model.fit(X_train, y_train, epochs=10, batch_size=32, validation_data=(X_test, y_test), verbose=1)\n",
        "\n",
        "# Plot the training and validation accuracy\n",
        "plt.plot(history.history['accuracy'], label='Training Accuracy')\n",
        "plt.plot(history.history['val_accuracy'], label='Validation Accuracy')\n",
        "plt.title('Accuracy')\n",
        "plt.xlabel('Epoch')\n",
        "plt.ylabel('Accuracy')\n",
        "plt.legend()\n",
        "plt.show()\n",
        "\n",
        "# Plot the training and validation loss\n",
        "plt.plot(history.history['loss'], label='Training Loss')\n",
        "plt.plot(history.history['val_loss'], label='Validation Loss')\n",
        "plt.title('Loss')\n",
        "plt.xlabel('Epoch')\n",
        "plt.ylabel('Loss')\n",
        "plt.legend()\n",
        "plt.show()\n"
      ],
      "metadata": {
        "colab": {
          "base_uri": "https://localhost:8080/",
          "height": 1000
        },
        "id": "Hltulzbvtf3o",
        "outputId": "e1723b55-78a9-4adc-fdba-feb39edf5ce4"
      },
      "execution_count": 24,
      "outputs": [
        {
          "output_type": "stream",
          "name": "stdout",
          "text": [
            "Epoch 1/10\n",
            "1875/1875 [==============================] - 10s 5ms/step - loss: 0.3395 - accuracy: 0.9102 - val_loss: 0.1670 - val_accuracy: 0.9519\n",
            "Epoch 2/10\n",
            "1875/1875 [==============================] - 8s 4ms/step - loss: 0.1327 - accuracy: 0.9612 - val_loss: 0.1150 - val_accuracy: 0.9680\n",
            "Epoch 3/10\n",
            "1875/1875 [==============================] - 11s 6ms/step - loss: 0.0872 - accuracy: 0.9738 - val_loss: 0.0933 - val_accuracy: 0.9714\n",
            "Epoch 4/10\n",
            "1875/1875 [==============================] - 9s 5ms/step - loss: 0.0630 - accuracy: 0.9814 - val_loss: 0.0793 - val_accuracy: 0.9760\n",
            "Epoch 5/10\n",
            "1875/1875 [==============================] - 7s 4ms/step - loss: 0.0467 - accuracy: 0.9861 - val_loss: 0.0933 - val_accuracy: 0.9711\n",
            "Epoch 6/10\n",
            "1875/1875 [==============================] - 9s 5ms/step - loss: 0.0357 - accuracy: 0.9896 - val_loss: 0.0739 - val_accuracy: 0.9780\n",
            "Epoch 7/10\n",
            "1875/1875 [==============================] - 9s 5ms/step - loss: 0.0275 - accuracy: 0.9918 - val_loss: 0.0710 - val_accuracy: 0.9784\n",
            "Epoch 8/10\n",
            "1875/1875 [==============================] - 8s 4ms/step - loss: 0.0207 - accuracy: 0.9946 - val_loss: 0.0705 - val_accuracy: 0.9801\n",
            "Epoch 9/10\n",
            "1875/1875 [==============================] - 10s 5ms/step - loss: 0.0169 - accuracy: 0.9951 - val_loss: 0.0736 - val_accuracy: 0.9781\n",
            "Epoch 10/10\n",
            "1875/1875 [==============================] - 10s 5ms/step - loss: 0.0135 - accuracy: 0.9961 - val_loss: 0.0866 - val_accuracy: 0.9769\n"
          ]
        },
        {
          "output_type": "display_data",
          "data": {
            "text/plain": [
              "<Figure size 640x480 with 1 Axes>"
            ],
            "image/png": "[encoded data removed]"
          },
          "metadata": {}
        },
        {
          "output_type": "display_data",
          "data": {
            "text/plain": [
              "<Figure size 640x480 with 1 Axes>"
            ],
            "image/png": "[encoded data removed]"
          },
          "metadata": {}
        }
      ]
    },
    {
      "cell_type": "code",
      "source": [],
      "metadata": {
        "id": "o0aljEegzbdD"
      },
      "execution_count": null,
      "outputs": []
    },
    {
      "cell_type": "code",
      "source": [],
      "metadata": {
        "id": "kyYH8-Znyvjh"
      },
      "execution_count": null,
      "outputs": []
    },
    {
      "cell_type": "code",
      "source": [],
      "metadata": {
        "id": "7-dvWuCJtvi6"
      },
      "execution_count": null,
      "outputs": []
    },
    {
      "cell_type": "markdown",
      "source": [
        "d) Run the same code without scaling the images and check the performance?"
      ],
      "metadata": {
        "id": "EqSbbWU-twMF"
      }
    },
    {
      "cell_type": "code",
      "source": [
        "import numpy as np\n",
        "import matplotlib.pyplot as plt\n",
        "from tensorflow.keras.datasets import mnist\n",
        "from tensorflow.keras.models import Sequential\n",
        "from tensorflow.keras.layers import Dense, Flatten\n",
        "from tensorflow.keras.utils import to_categorical\n",
        "\n",
        "# Load the MNIST dataset\n",
        "(X_train, y_train), (X_test, y_test) = mnist.load_data()\n",
        "\n",
        "# Preprocess the data\n",
        "X_train = X_train.reshape(-1, 28, 28, 1)\n",
        "X_test = X_test.reshape(-1, 28, 28, 1)\n",
        "y_train = to_categorical(y_train)\n",
        "y_test = to_categorical(y_test)\n",
        "\n",
        "# Define the model architecture\n",
        "model = Sequential([\n",
        "    Flatten(input_shape=(28, 28, 1)),\n",
        "    Dense(128, activation='tanh'),\n",
        "    Dense(64, activation='sigmoid'),\n",
        "    Dense(10, activation='softmax')\n",
        "])\n",
        "\n",
        "# Compile the model\n",
        "model.compile(optimizer='adam', loss='categorical_crossentropy', metrics=['accuracy'])\n",
        "\n",
        "# Train the model\n",
        "history = model.fit(X_train, y_train, epochs=10, batch_size=32, validation_data=(X_test, y_test), verbose=1)\n",
        "\n",
        "# Plot the training and validation accuracy\n",
        "plt.plot(history.history['accuracy'], label='Training Accuracy')\n",
        "plt.plot(history.history['val_accuracy'], label='Validation Accuracy')\n",
        "plt.title('Accuracy')\n",
        "plt.xlabel('Epoch')\n",
        "plt.ylabel('Accuracy')\n",
        "plt.legend()\n",
        "plt.show()\n",
        "\n",
        "# Plot the training and validation loss\n",
        "plt.plot(history.history['loss'], label='Training Loss')\n",
        "plt.plot(history.history['val_loss'], label='Validation Loss')\n",
        "plt.title('Loss')\n",
        "plt.xlabel('Epoch')\n",
        "plt.ylabel('Loss')\n",
        "plt.legend()\n",
        "plt.show()\n"
      ],
      "metadata": {
        "colab": {
          "base_uri": "https://localhost:8080/",
          "height": 1000
        },
        "id": "tbLi3lLat1Yy",
        "outputId": "48476216-cb9e-4de6-a009-0af489b33d0f"
      },
      "execution_count": 25,
      "outputs": [
        {
          "output_type": "stream",
          "name": "stdout",
          "text": [
            "Epoch 1/10\n",
            "1875/1875 [==============================] - 10s 5ms/step - loss: 0.6162 - accuracy: 0.8307 - val_loss: 0.4405 - val_accuracy: 0.8664\n",
            "Epoch 2/10\n",
            "1875/1875 [==============================] - 9s 5ms/step - loss: 0.4192 - accuracy: 0.8701 - val_loss: 0.4070 - val_accuracy: 0.8716\n",
            "Epoch 3/10\n",
            "1875/1875 [==============================] - 8s 4ms/step - loss: 0.3743 - accuracy: 0.8834 - val_loss: 0.3711 - val_accuracy: 0.8794\n",
            "Epoch 4/10\n",
            "1875/1875 [==============================] - 9s 5ms/step - loss: 0.3534 - accuracy: 0.8893 - val_loss: 0.3483 - val_accuracy: 0.8866\n",
            "Epoch 5/10\n",
            "1875/1875 [==============================] - 9s 5ms/step - loss: 0.3273 - accuracy: 0.8976 - val_loss: 0.2865 - val_accuracy: 0.9131\n",
            "Epoch 6/10\n",
            "1875/1875 [==============================] - 8s 4ms/step - loss: 0.2914 - accuracy: 0.9104 - val_loss: 0.2655 - val_accuracy: 0.9149\n",
            "Epoch 7/10\n",
            "1875/1875 [==============================] - 9s 5ms/step - loss: 0.2888 - accuracy: 0.9100 - val_loss: 0.2932 - val_accuracy: 0.9078\n",
            "Epoch 8/10\n",
            "1875/1875 [==============================] - 8s 4ms/step - loss: 0.2836 - accuracy: 0.9106 - val_loss: 0.2467 - val_accuracy: 0.9217\n",
            "Epoch 9/10\n",
            "1875/1875 [==============================] - 9s 5ms/step - loss: 0.2585 - accuracy: 0.9187 - val_loss: 0.2437 - val_accuracy: 0.9263\n",
            "Epoch 10/10\n",
            "1875/1875 [==============================] - 9s 5ms/step - loss: 0.2524 - accuracy: 0.9211 - val_loss: 0.2461 - val_accuracy: 0.9230\n"
          ]
        },
        {
          "output_type": "display_data",
          "data": {
            "text/plain": [
              "<Figure size 640x480 with 1 Axes>"
            ],
            "image/png": "[encoded data removed]"
          },
          "metadata": {}
        },
        {
          "output_type": "display_data",
          "data": {
            "text/plain": [
              "<Figure size 640x480 with 1 Axes>"
            ],
            "image/png": "[encoded data removed]"
          },
          "metadata": {}
        }
      ]
    },
    {
      "cell_type": "code",
      "source": [],
      "metadata": {
        "id": "wUhA0Pha0Miq"
      },
      "execution_count": null,
      "outputs": []
    }
  ]
}